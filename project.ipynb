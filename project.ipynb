{
 "cells": [
  {
   "cell_type": "markdown",
   "metadata": {},
   "source": [
    "# Computational tools for data science - project"
   ]
  },
  {
   "cell_type": "markdown",
   "metadata": {},
   "source": [
    "Laoading data and first exploratory analysis"
   ]
  },
  {
   "cell_type": "code",
   "execution_count": 2,
   "metadata": {},
   "outputs": [],
   "source": [
    "import pandas as pd\n",
    "import numpy as np\n",
    "import matplotlib.pyplot as plt\n",
    "import seaborn as sns"
   ]
  },
  {
   "cell_type": "code",
   "execution_count": 5,
   "metadata": {},
   "outputs": [],
   "source": [
    "netflix = pd.read_csv('data/netflix.csv')\n",
    "amazon = pd.read_csv('data/amazon.csv')\n",
    "hulu = pd.read_csv('data/hulu.csv')\n",
    "apple = pd.read_csv('data/apple.csv')\n",
    "hbo = pd.read_csv('data/hbo.csv')\n",
    "\n",
    "#main = pd.read_csv('data/TMDB_all_movies.csv')"
   ]
  },
  {
   "cell_type": "code",
   "execution_count": null,
   "metadata": {},
   "outputs": [],
   "source": [
    "main.head()"
   ]
  },
  {
   "cell_type": "code",
   "execution_count": null,
   "metadata": {},
   "outputs": [],
   "source": [
    "netflix.head()"
   ]
  },
  {
   "cell_type": "code",
   "execution_count": null,
   "metadata": {},
   "outputs": [],
   "source": [
    "# Remove TV shows (we only want movies)\n",
    "def remove_tv_show(df):\n",
    "    return df[df['type'] == 'movie']\n",
    "\n",
    "print('Before removing shows')\n",
    "print(netflix.shape)\n",
    "print(amazon.shape)\n",
    "print(hulu.shape)\n",
    "print(apple.shape)\n",
    "print(hbo.shape)\n",
    "\n",
    "netflix = remove_tv_show(netflix)\n",
    "apple = remove_tv_show(apple)\n",
    "hulu = remove_tv_show(hulu)\n",
    "amazon = remove_tv_show(amazon)\n",
    "hbo = remove_tv_show(hbo)\n",
    "\n",
    "#dimension of the dataset\n",
    "print('After removing shows')\n",
    "print(netflix.shape)\n",
    "print(amazon.shape)\n",
    "print(hulu.shape)\n",
    "print(apple.shape)\n",
    "print(hbo.shape)"
   ]
  },
  {
   "cell_type": "code",
   "execution_count": null,
   "metadata": {},
   "outputs": [],
   "source": [
    "#add platform column to main dataset\n",
    "def platform_column(main, platform, platform_name):\n",
    "    for index, row in main.iterrows():\n",
    "        if row['title'] in platform['title'].values: \n",
    "            main.loc[index, platform_name] = 1\n",
    "        else:\n",
    "            main.loc[index, platform_name] = 0\n",
    "    return main"
   ]
  },
  {
   "cell_type": "code",
   "execution_count": null,
   "metadata": {},
   "outputs": [],
   "source": [
    "#main_netflix = platform_column(main, netflix, 'Netflix')\n",
    "#main_net_ama = platform_column(main_netflix, amazon, 'Amazon')\n",
    "#main_net_ama_hulu = platform_column(main_net_ama, hulu, 'Hulu')\n",
    "#main_net_ama_hulu_apple = platform_column(main_net_ama_hulu, apple, 'Apple')\n",
    "#main_complete = platform_column(main_net_ama_hulu_apple, hbo, 'HBO')\n"
   ]
  },
  {
   "cell_type": "code",
   "execution_count": null,
   "metadata": {},
   "outputs": [],
   "source": [
    "# load dataset\n",
    "main_complete = pd.read_csv('data/main_complete.csv')\n",
    "main_complete.head()"
   ]
  },
  {
   "cell_type": "markdown",
   "metadata": {},
   "source": [
    "To not run"
   ]
  },
  {
   "cell_type": "code",
   "execution_count": null,
   "metadata": {},
   "outputs": [],
   "source": [
    "#count the number of movies in each platform\n",
    "def count_movies(df, platform_name):\n",
    "    return df[platform_name].sum()"
   ]
  },
  {
   "cell_type": "code",
   "execution_count": null,
   "metadata": {},
   "outputs": [],
   "source": [
    "netflix_count = count_movies(main_complete, 'Netflix')\n",
    "print(netflix_count)\n",
    "amazon_count = count_movies(main_complete, 'Amazon')\n",
    "print(amazon_count)\n",
    "hulu_count = count_movies(main_complete, 'Hulu')\n",
    "print(hulu_count)\n",
    "apple_count = count_movies(main_complete, 'Apple')\n",
    "print(apple_count)\n",
    "hbo_count = count_movies(main_complete, 'HBO')\n",
    "print(hbo_count)"
   ]
  },
  {
   "cell_type": "code",
   "execution_count": null,
   "metadata": {},
   "outputs": [],
   "source": [
    "#count the number of movies in more than one platform (take in consideration two, three and four platforms)\n",
    "count = 0\n",
    "for index, row in main_complete.iterrows():\n",
    "    if row['Netflix'] + row['Amazon'] + row['Hulu'] + row['Apple'] + row['HBO']> 1:\n",
    "        count += 1\n",
    "print(count)"
   ]
  },
  {
   "cell_type": "code",
   "execution_count": null,
   "metadata": {},
   "outputs": [],
   "source": [
    "#identify which movies are in more than one platform\n",
    "def more_than_one_platform(df):\n",
    "    return df[(df['Netflix'] + df['Amazon'] + df['Hulu'] + df['Apple'] + df['HBO']) > 1]\n",
    "\n",
    "in_platforms = more_than_one_platform(main_complete)"
   ]
  },
  {
   "cell_type": "code",
   "execution_count": null,
   "metadata": {},
   "outputs": [],
   "source": [
    "in_platforms"
   ]
  },
  {
   "cell_type": "markdown",
   "metadata": {},
   "source": [
    "Run again"
   ]
  },
  {
   "cell_type": "code",
   "execution_count": null,
   "metadata": {},
   "outputs": [],
   "source": [
    "main_complete.dtypes"
   ]
  },
  {
   "cell_type": "markdown",
   "metadata": {},
   "source": [
    "## Simmilarity"
   ]
  },
  {
   "cell_type": "markdown",
   "metadata": {},
   "source": [
    "we need to tokenize each feature into sets\n",
    "\n",
    "for categorical features, we do one-hot encode to represent the presence or absence"
   ]
  },
  {
   "cell_type": "markdown",
   "metadata": {},
   "source": [
    " For MinHashing, you need each feature (e.g., genres, cast members) in each row (movie) to be a set of tokens. Convert strings like \"Action|Adventure\" into sets like {“Action”, “Adventure”}."
   ]
  },
  {
   "cell_type": "markdown",
   "metadata": {},
   "source": [
    "### Genres Analysis"
   ]
  },
  {
   "cell_type": "code",
   "execution_count": 9,
   "metadata": {},
   "outputs": [],
   "source": [
    "# load dataset\n",
    "main_complete = pd.read_csv('data/main_complete.csv')\n",
    "# main_complete.head()"
   ]
  },
  {
   "cell_type": "code",
   "execution_count": 10,
   "metadata": {},
   "outputs": [],
   "source": [
    "from pandas import DataFrame\n",
    "\n",
    "main_genres = DataFrame()\n",
    "main_genres = main_complete"
   ]
  },
  {
   "cell_type": "code",
   "execution_count": 11,
   "metadata": {},
   "outputs": [
    {
     "name": "stdout",
     "output_type": "stream",
     "text": [
      "This percentage of movies have no genre: 29.076318106153554\n"
     ]
    }
   ],
   "source": [
    "# check how many movies have no genre\n",
    "nulls = main_genres['genres'].isnull().sum()\n",
    "print(\"This percentage of movies have no genre:\", nulls/len(main_genres)*100)\n"
   ]
  },
  {
   "cell_type": "markdown",
   "metadata": {},
   "source": [
    "We need to create a set with the different genres in each movie"
   ]
  },
  {
   "cell_type": "code",
   "execution_count": 14,
   "metadata": {},
   "outputs": [],
   "source": [
    "# split the genres into a set of genres and remove spaces\n",
    "main_genres['genres'] = main_genres['genres'].apply(lambda x: set(genre.strip() for genre in x.split(',')) if pd.notnull(x) else set())"
   ]
  },
  {
   "cell_type": "code",
   "execution_count": 15,
   "metadata": {},
   "outputs": [
    {
     "name": "stdout",
     "output_type": "stream",
     "text": [
      "There are  19 different genres in the dataset\n"
     ]
    }
   ],
   "source": [
    "# THIS IS JUST TO VISUALIZE THE GENRES\n",
    "# check how many different genres are taking into account the content of the lists\n",
    "genres = set()\n",
    "for list in main_genres['genres']:\n",
    "    # if list is not NaN\n",
    "    if list is not np.nan:\n",
    "        for genre in list:\n",
    "            # remove the space at the beginning of the string if there is one\n",
    "            genre = genre.strip()\n",
    "            genres.add(genre)\n",
    "print(\"There are \", len(genres), \"different genres in the dataset\")"
   ]
  },
  {
   "cell_type": "code",
   "execution_count": 16,
   "metadata": {},
   "outputs": [
    {
     "name": "stdout",
     "output_type": "stream",
     "text": [
      "The genres are: {'Animation', 'Science Fiction', 'History', 'Family', 'Fantasy', 'Mystery', 'Horror', 'Thriller', 'Romance', 'Comedy', 'Crime', 'Western', 'Music', 'War', 'Documentary', 'Drama', 'Action', 'TV Movie', 'Adventure'}\n"
     ]
    }
   ],
   "source": [
    "print(\"The genres are:\", genres)"
   ]
  },
  {
   "cell_type": "code",
   "execution_count": 17,
   "metadata": {},
   "outputs": [
    {
     "data": {
      "image/png": "[encoded data removed]",
      "text/plain": [
       "<Figure size 2000x1000 with 1 Axes>"
      ]
     },
     "metadata": {},
     "output_type": "display_data"
    }
   ],
   "source": [
    "# THIS IS JUST TO VISUALIZE\n",
    "# plot the histogram of genres\n",
    "genres_count = {genre: 0 for genre in genres}\n",
    "for genre_list in main_genres['genres']:\n",
    "    if genre_list is not np.nan:\n",
    "        for genre in genre_list:\n",
    "            genre = genre.strip()\n",
    "            genres_count[genre] += 1\n",
    "\n",
    "# histogram\n",
    "plt.figure(figsize=(20, 10))\n",
    "plt.bar(genres_count.keys(), genres_count.values())\n",
    "plt.xticks(rotation=90)\n",
    "plt.xlabel('Genres')\n",
    "plt.ylabel('Number of movies')\n",
    "plt.title('Number of movies per genre')\n",
    "plt.show()"
   ]
  },
  {
   "cell_type": "markdown",
   "metadata": {},
   "source": [
    "### Cast and crew"
   ]
  },
  {
   "cell_type": "code",
   "execution_count": 18,
   "metadata": {},
   "outputs": [],
   "source": [
    "# split the cast into a set of cast and remove spaces\n",
    "main_genres['cast'] = main_genres['cast'].apply(lambda x: set(actor.strip() for actor in x.split(',')) if pd.notnull(x) else set())"
   ]
  },
  {
   "cell_type": "code",
   "execution_count": 19,
   "metadata": {},
   "outputs": [
    {
     "data": {
      "text/plain": [
       "0          {Erkki Pajala, Esko Nikkari, Marja Packalén, M...\n",
       "1          {Malla Hukkanen, Kylli Köngäs, Esko Nikkari, S...\n",
       "2          {Unruly Julie McClean, Marisa Tomei, Quinn Hel...\n",
       "3          {Sean O'Grady, Stuart Abramson, Everlast, Mich...\n",
       "4                                                         {}\n",
       "                                 ...                        \n",
       "1009834                                                   {}\n",
       "1009835                                                   {}\n",
       "1009836                                                   {}\n",
       "1009837    {Edgar Moro, Carlos Alejandro López, Alexia Mo...\n",
       "1009838    {Kollin Holtz, Edwin Hodge, Len Cariou, Sachin...\n",
       "Name: cast, Length: 1009839, dtype: object"
      ]
     },
     "execution_count": 19,
     "metadata": {},
     "output_type": "execute_result"
    }
   ],
   "source": [
    "main_genres['cast']"
   ]
  },
  {
   "cell_type": "code",
   "execution_count": 20,
   "metadata": {},
   "outputs": [],
   "source": [
    "# main_genres['cast']\n",
    "\n",
    "# # split the cast into a list of actors\n",
    "# main_genres['cast'] = main_genres['cast'].str.split(',')\n",
    "\n",
    "\n",
    "# # check how many different actors are taking into account the content of the lists\n",
    "# actors = set()\n",
    "# for list in main_genres['cast']:\n",
    "#     # if list is not NaN\n",
    "#     if list is not np.nan:\n",
    "#         for actor in list:\n",
    "#             # remove the space at the beginning of the string if there is one\n",
    "#             actor = actor.strip()\n",
    "#             actors.add(actor)\n",
    "# actors.remove('')\n",
    "# print(\"There are \", len(actors), \"different actors in the dataset\")"
   ]
  },
  {
   "cell_type": "code",
   "execution_count": 21,
   "metadata": {},
   "outputs": [
    {
     "name": "stdout",
     "output_type": "stream",
     "text": [
      "This percentage of movies have no cast: 33.29124741666741\n"
     ]
    }
   ],
   "source": [
    "# how many movies have no cast\n",
    "nulls = main_genres['cast'].apply(lambda x: len(x) == 0).sum()\n",
    "print(\"This percentage of movies have no cast:\", nulls/len(main_genres)*100)"
   ]
  },
  {
   "cell_type": "markdown",
   "metadata": {},
   "source": [
    "create a column called \"crew\" with sets of director, director_of_photography, writers, music_composer and producers. Remove the columns of these ones"
   ]
  },
  {
   "cell_type": "code",
   "execution_count": 22,
   "metadata": {},
   "outputs": [],
   "source": [
    "columns_to_merge = ['director', 'director_of_photography', 'writers', 'music_composer', 'producers']\n",
    "\n",
    "for column in columns_to_merge:\n",
    "    main_genres[column] = main_genres[column].apply(lambda x: set(person.strip() for person in x.split(',')) if pd.notnull(x) else set())\n",
    "\n",
    "main_genres['crew'] = main_genres.apply(lambda row: set.union(row['director'], row['director_of_photography'], row['writers'], row['music_composer'], row['producers']), axis=1)\n",
    "\n",
    "# Drop the individual columns\n",
    "main_genres.drop(columns=columns_to_merge, inplace=True)\n",
    "\n",
    "# main_genres['crew']"
   ]
  },
  {
   "cell_type": "code",
   "execution_count": 23,
   "metadata": {},
   "outputs": [
    {
     "data": {
      "text/plain": [
       "{'Alexandre Rockwell',\n",
       " 'Allison Anders',\n",
       " 'Andrzej Sekula',\n",
       " 'Combustible Edison',\n",
       " 'Guillermo Navarro',\n",
       " 'Lawrence Bender',\n",
       " 'Phil Parmet',\n",
       " 'Quentin Tarantino',\n",
       " 'Robert Rodriguez',\n",
       " 'Rodrigo García'}"
      ]
     },
     "execution_count": 23,
     "metadata": {},
     "output_type": "execute_result"
    }
   ],
   "source": [
    "main_genres['crew'][2]"
   ]
  },
  {
   "cell_type": "code",
   "execution_count": 24,
   "metadata": {},
   "outputs": [
    {
     "name": "stdout",
     "output_type": "stream",
     "text": [
      "This percentage of movies have no crew: 16.80178721558585\n"
     ]
    }
   ],
   "source": [
    "# how many movies have no crew\n",
    "nulls = main_genres['crew'].apply(lambda x: len(x) == 0).sum()\n",
    "print(\"This percentage of movies have no crew:\", nulls/len(main_genres)*100)"
   ]
  },
  {
   "cell_type": "markdown",
   "metadata": {},
   "source": [
    "Production companies and countries"
   ]
  },
  {
   "cell_type": "markdown",
   "metadata": {},
   "source": [
    "production_companies, production_countries "
   ]
  },
  {
   "cell_type": "code",
   "execution_count": 25,
   "metadata": {},
   "outputs": [],
   "source": [
    "# split the production_companies into a set and remove spaces\n",
    "main_genres['production_companies'] = main_genres['production_companies'].apply(lambda x: set(company.strip() for company in x.split(',')) if pd.notnull(x) else set())"
   ]
  },
  {
   "cell_type": "code",
   "execution_count": 26,
   "metadata": {},
   "outputs": [
    {
     "data": {
      "text/plain": [
       "{'JVC', 'Largo Entertainment', 'Universal Pictures'}"
      ]
     },
     "execution_count": 26,
     "metadata": {},
     "output_type": "execute_result"
    }
   ],
   "source": [
    "main_genres['production_companies'][3]"
   ]
  },
  {
   "cell_type": "code",
   "execution_count": 27,
   "metadata": {},
   "outputs": [
    {
     "name": "stdout",
     "output_type": "stream",
     "text": [
      "This percentage of movies have no production companies: 53.91235632610743\n"
     ]
    }
   ],
   "source": [
    "# percentage of movies with no production companies\n",
    "nulls = main_genres['production_companies'].apply(lambda x: len(x) == 0).sum()\n",
    "print(\"This percentage of movies have no production companies:\", nulls/len(main_genres)*100)"
   ]
  },
  {
   "cell_type": "code",
   "execution_count": 28,
   "metadata": {},
   "outputs": [],
   "source": [
    "main_genres['production_countries'] = main_genres['production_countries'].apply(lambda x: set(country.strip() for country in x.split(',')) if pd.notnull(x) else set())"
   ]
  },
  {
   "cell_type": "code",
   "execution_count": 29,
   "metadata": {},
   "outputs": [
    {
     "data": {
      "text/plain": [
       "0                           {Finland}\n",
       "1                           {Finland}\n",
       "2          {United States of America}\n",
       "3          {United States of America}\n",
       "4                           {Austria}\n",
       "                      ...            \n",
       "1009834                            {}\n",
       "1009835                            {}\n",
       "1009836                            {}\n",
       "1009837                            {}\n",
       "1009838                            {}\n",
       "Name: production_countries, Length: 1009839, dtype: object"
      ]
     },
     "execution_count": 29,
     "metadata": {},
     "output_type": "execute_result"
    }
   ],
   "source": [
    "main_genres['production_countries']"
   ]
  },
  {
   "cell_type": "code",
   "execution_count": 30,
   "metadata": {},
   "outputs": [
    {
     "name": "stdout",
     "output_type": "stream",
     "text": [
      "This percentage of movies have no production countries: 39.518774774988884\n"
     ]
    }
   ],
   "source": [
    "# percentage of movies with no production countries\n",
    "nulls = main_genres['production_countries'].apply(lambda x: len(x) == 0).sum()\n",
    "print(\"This percentage of movies have no production countries:\", nulls/len(main_genres)*100)"
   ]
  },
  {
   "cell_type": "code",
   "execution_count": 31,
   "metadata": {},
   "outputs": [
    {
     "data": {
      "text/html": [
       "<div>\n",
       "<style scoped>\n",
       "    .dataframe tbody tr th:only-of-type {\n",
       "        vertical-align: middle;\n",
       "    }\n",
       "\n",
       "    .dataframe tbody tr th {\n",
       "        vertical-align: top;\n",
       "    }\n",
       "\n",
       "    .dataframe thead th {\n",
       "        text-align: right;\n",
       "    }\n",
       "</style>\n",
       "<table border=\"1\" class=\"dataframe\">\n",
       "  <thead>\n",
       "    <tr style=\"text-align: right;\">\n",
       "      <th></th>\n",
       "      <th>id</th>\n",
       "      <th>title</th>\n",
       "      <th>vote_average</th>\n",
       "      <th>vote_count</th>\n",
       "      <th>status</th>\n",
       "      <th>release_date</th>\n",
       "      <th>revenue</th>\n",
       "      <th>runtime</th>\n",
       "      <th>budget</th>\n",
       "      <th>imdb_id</th>\n",
       "      <th>...</th>\n",
       "      <th>History</th>\n",
       "      <th>Horror</th>\n",
       "      <th>Music</th>\n",
       "      <th>Mystery</th>\n",
       "      <th>Romance</th>\n",
       "      <th>Science Fiction</th>\n",
       "      <th>TV Movie</th>\n",
       "      <th>Thriller</th>\n",
       "      <th>War</th>\n",
       "      <th>Western</th>\n",
       "    </tr>\n",
       "  </thead>\n",
       "  <tbody>\n",
       "    <tr>\n",
       "      <th>0</th>\n",
       "      <td>2</td>\n",
       "      <td>Ariel</td>\n",
       "      <td>7.1</td>\n",
       "      <td>330.0</td>\n",
       "      <td>Released</td>\n",
       "      <td>1988-10-21</td>\n",
       "      <td>0.0</td>\n",
       "      <td>73.0</td>\n",
       "      <td>0.0</td>\n",
       "      <td>tt0094675</td>\n",
       "      <td>...</td>\n",
       "      <td>0</td>\n",
       "      <td>0</td>\n",
       "      <td>0</td>\n",
       "      <td>0</td>\n",
       "      <td>1</td>\n",
       "      <td>0</td>\n",
       "      <td>0</td>\n",
       "      <td>0</td>\n",
       "      <td>0</td>\n",
       "      <td>0</td>\n",
       "    </tr>\n",
       "    <tr>\n",
       "      <th>1</th>\n",
       "      <td>3</td>\n",
       "      <td>Shadows in Paradise</td>\n",
       "      <td>7.3</td>\n",
       "      <td>369.0</td>\n",
       "      <td>Released</td>\n",
       "      <td>1986-10-17</td>\n",
       "      <td>0.0</td>\n",
       "      <td>74.0</td>\n",
       "      <td>0.0</td>\n",
       "      <td>tt0092149</td>\n",
       "      <td>...</td>\n",
       "      <td>0</td>\n",
       "      <td>0</td>\n",
       "      <td>0</td>\n",
       "      <td>0</td>\n",
       "      <td>1</td>\n",
       "      <td>0</td>\n",
       "      <td>0</td>\n",
       "      <td>0</td>\n",
       "      <td>0</td>\n",
       "      <td>0</td>\n",
       "    </tr>\n",
       "    <tr>\n",
       "      <th>2</th>\n",
       "      <td>5</td>\n",
       "      <td>Four Rooms</td>\n",
       "      <td>5.8</td>\n",
       "      <td>2623.0</td>\n",
       "      <td>Released</td>\n",
       "      <td>1995-12-09</td>\n",
       "      <td>4257354.0</td>\n",
       "      <td>98.0</td>\n",
       "      <td>4000000.0</td>\n",
       "      <td>tt0113101</td>\n",
       "      <td>...</td>\n",
       "      <td>0</td>\n",
       "      <td>0</td>\n",
       "      <td>0</td>\n",
       "      <td>0</td>\n",
       "      <td>0</td>\n",
       "      <td>0</td>\n",
       "      <td>0</td>\n",
       "      <td>0</td>\n",
       "      <td>0</td>\n",
       "      <td>0</td>\n",
       "    </tr>\n",
       "    <tr>\n",
       "      <th>3</th>\n",
       "      <td>6</td>\n",
       "      <td>Judgment Night</td>\n",
       "      <td>6.5</td>\n",
       "      <td>331.0</td>\n",
       "      <td>Released</td>\n",
       "      <td>1993-10-15</td>\n",
       "      <td>12136938.0</td>\n",
       "      <td>109.0</td>\n",
       "      <td>21000000.0</td>\n",
       "      <td>tt0107286</td>\n",
       "      <td>...</td>\n",
       "      <td>0</td>\n",
       "      <td>0</td>\n",
       "      <td>0</td>\n",
       "      <td>0</td>\n",
       "      <td>0</td>\n",
       "      <td>0</td>\n",
       "      <td>0</td>\n",
       "      <td>1</td>\n",
       "      <td>0</td>\n",
       "      <td>0</td>\n",
       "    </tr>\n",
       "    <tr>\n",
       "      <th>4</th>\n",
       "      <td>8</td>\n",
       "      <td>Life in Loops (A Megacities RMX)</td>\n",
       "      <td>7.5</td>\n",
       "      <td>27.0</td>\n",
       "      <td>Released</td>\n",
       "      <td>2006-01-01</td>\n",
       "      <td>0.0</td>\n",
       "      <td>80.0</td>\n",
       "      <td>42000.0</td>\n",
       "      <td>tt0825671</td>\n",
       "      <td>...</td>\n",
       "      <td>0</td>\n",
       "      <td>0</td>\n",
       "      <td>0</td>\n",
       "      <td>0</td>\n",
       "      <td>0</td>\n",
       "      <td>0</td>\n",
       "      <td>0</td>\n",
       "      <td>0</td>\n",
       "      <td>0</td>\n",
       "      <td>0</td>\n",
       "    </tr>\n",
       "  </tbody>\n",
       "</table>\n",
       "<p>5 rows × 49 columns</p>\n",
       "</div>"
      ],
      "text/plain": [
       "   id                             title  vote_average  vote_count    status  \\\n",
       "0   2                             Ariel           7.1       330.0  Released   \n",
       "1   3               Shadows in Paradise           7.3       369.0  Released   \n",
       "2   5                        Four Rooms           5.8      2623.0  Released   \n",
       "3   6                    Judgment Night           6.5       331.0  Released   \n",
       "4   8  Life in Loops (A Megacities RMX)           7.5        27.0  Released   \n",
       "\n",
       "  release_date     revenue  runtime      budget    imdb_id  ... History  \\\n",
       "0   1988-10-21         0.0     73.0         0.0  tt0094675  ...       0   \n",
       "1   1986-10-17         0.0     74.0         0.0  tt0092149  ...       0   \n",
       "2   1995-12-09   4257354.0     98.0   4000000.0  tt0113101  ...       0   \n",
       "3   1993-10-15  12136938.0    109.0  21000000.0  tt0107286  ...       0   \n",
       "4   2006-01-01         0.0     80.0     42000.0  tt0825671  ...       0   \n",
       "\n",
       "  Horror Music  Mystery Romance Science Fiction TV Movie Thriller War Western  \n",
       "0      0     0        0       1               0        0        0   0       0  \n",
       "1      0     0        0       1               0        0        0   0       0  \n",
       "2      0     0        0       0               0        0        0   0       0  \n",
       "3      0     0        0       0               0        0        1   0       0  \n",
       "4      0     0        0       0               0        0        0   0       0  \n",
       "\n",
       "[5 rows x 49 columns]"
      ]
     },
     "execution_count": 31,
     "metadata": {},
     "output_type": "execute_result"
    }
   ],
   "source": [
    "# Perform one-hot encoding for the genres\n",
    "genres_dummies = main_genres['genres'].str.join('|').str.get_dummies()\n",
    "\n",
    "# Concatenate the one-hot encoded genres with the main_genres dataframe\n",
    "main_genres = pd.concat([main_genres, genres_dummies], axis=1)\n",
    "\n",
    "# Display the updated dataframe\n",
    "main_genres.head()"
   ]
  },
  {
   "cell_type": "code",
   "execution_count": 33,
   "metadata": {},
   "outputs": [
    {
     "data": {
      "image/png": "[encoded data removed]",
      "text/plain": [
       "<Figure size 1200x600 with 1 Axes>"
      ]
     },
     "metadata": {},
     "output_type": "display_data"
    },
    {
     "data": {
      "text/html": [
       "<div>\n",
       "<style scoped>\n",
       "    .dataframe tbody tr th:only-of-type {\n",
       "        vertical-align: middle;\n",
       "    }\n",
       "\n",
       "    .dataframe tbody tr th {\n",
       "        vertical-align: top;\n",
       "    }\n",
       "\n",
       "    .dataframe thead th {\n",
       "        text-align: right;\n",
       "    }\n",
       "</style>\n",
       "<table border=\"1\" class=\"dataframe\">\n",
       "  <thead>\n",
       "    <tr style=\"text-align: right;\">\n",
       "      <th></th>\n",
       "      <th>Action</th>\n",
       "      <th>Adventure</th>\n",
       "      <th>Animation</th>\n",
       "      <th>Comedy</th>\n",
       "      <th>Crime</th>\n",
       "      <th>Documentary</th>\n",
       "      <th>Drama</th>\n",
       "      <th>Family</th>\n",
       "      <th>Fantasy</th>\n",
       "      <th>History</th>\n",
       "      <th>Horror</th>\n",
       "      <th>Music</th>\n",
       "      <th>Mystery</th>\n",
       "      <th>Romance</th>\n",
       "      <th>Science Fiction</th>\n",
       "      <th>TV Movie</th>\n",
       "      <th>Thriller</th>\n",
       "      <th>War</th>\n",
       "      <th>Western</th>\n",
       "    </tr>\n",
       "  </thead>\n",
       "  <tbody>\n",
       "    <tr>\n",
       "      <th>0</th>\n",
       "      <td>0</td>\n",
       "      <td>0</td>\n",
       "      <td>0</td>\n",
       "      <td>1</td>\n",
       "      <td>1</td>\n",
       "      <td>0</td>\n",
       "      <td>1</td>\n",
       "      <td>0</td>\n",
       "      <td>0</td>\n",
       "      <td>0</td>\n",
       "      <td>0</td>\n",
       "      <td>0</td>\n",
       "      <td>0</td>\n",
       "      <td>1</td>\n",
       "      <td>0</td>\n",
       "      <td>0</td>\n",
       "      <td>0</td>\n",
       "      <td>0</td>\n",
       "      <td>0</td>\n",
       "    </tr>\n",
       "    <tr>\n",
       "      <th>1</th>\n",
       "      <td>0</td>\n",
       "      <td>0</td>\n",
       "      <td>0</td>\n",
       "      <td>1</td>\n",
       "      <td>0</td>\n",
       "      <td>0</td>\n",
       "      <td>1</td>\n",
       "      <td>0</td>\n",
       "      <td>0</td>\n",
       "      <td>0</td>\n",
       "      <td>0</td>\n",
       "      <td>0</td>\n",
       "      <td>0</td>\n",
       "      <td>1</td>\n",
       "      <td>0</td>\n",
       "      <td>0</td>\n",
       "      <td>0</td>\n",
       "      <td>0</td>\n",
       "      <td>0</td>\n",
       "    </tr>\n",
       "    <tr>\n",
       "      <th>2</th>\n",
       "      <td>0</td>\n",
       "      <td>0</td>\n",
       "      <td>0</td>\n",
       "      <td>1</td>\n",
       "      <td>0</td>\n",
       "      <td>0</td>\n",
       "      <td>0</td>\n",
       "      <td>0</td>\n",
       "      <td>0</td>\n",
       "      <td>0</td>\n",
       "      <td>0</td>\n",
       "      <td>0</td>\n",
       "      <td>0</td>\n",
       "      <td>0</td>\n",
       "      <td>0</td>\n",
       "      <td>0</td>\n",
       "      <td>0</td>\n",
       "      <td>0</td>\n",
       "      <td>0</td>\n",
       "    </tr>\n",
       "    <tr>\n",
       "      <th>3</th>\n",
       "      <td>1</td>\n",
       "      <td>0</td>\n",
       "      <td>0</td>\n",
       "      <td>0</td>\n",
       "      <td>1</td>\n",
       "      <td>0</td>\n",
       "      <td>0</td>\n",
       "      <td>0</td>\n",
       "      <td>0</td>\n",
       "      <td>0</td>\n",
       "      <td>0</td>\n",
       "      <td>0</td>\n",
       "      <td>0</td>\n",
       "      <td>0</td>\n",
       "      <td>0</td>\n",
       "      <td>0</td>\n",
       "      <td>1</td>\n",
       "      <td>0</td>\n",
       "      <td>0</td>\n",
       "    </tr>\n",
       "    <tr>\n",
       "      <th>4</th>\n",
       "      <td>0</td>\n",
       "      <td>0</td>\n",
       "      <td>0</td>\n",
       "      <td>0</td>\n",
       "      <td>0</td>\n",
       "      <td>1</td>\n",
       "      <td>0</td>\n",
       "      <td>0</td>\n",
       "      <td>0</td>\n",
       "      <td>0</td>\n",
       "      <td>0</td>\n",
       "      <td>0</td>\n",
       "      <td>0</td>\n",
       "      <td>0</td>\n",
       "      <td>0</td>\n",
       "      <td>0</td>\n",
       "      <td>0</td>\n",
       "      <td>0</td>\n",
       "      <td>0</td>\n",
       "    </tr>\n",
       "  </tbody>\n",
       "</table>\n",
       "</div>"
      ],
      "text/plain": [
       "   Action  Adventure  Animation  Comedy  Crime  Documentary  Drama  Family  \\\n",
       "0       0          0          0       1      1            0      1       0   \n",
       "1       0          0          0       1      0            0      1       0   \n",
       "2       0          0          0       1      0            0      0       0   \n",
       "3       1          0          0       0      1            0      0       0   \n",
       "4       0          0          0       0      0            1      0       0   \n",
       "\n",
       "   Fantasy  History  Horror  Music  Mystery  Romance  Science Fiction  \\\n",
       "0        0        0       0      0        0        1                0   \n",
       "1        0        0       0      0        0        1                0   \n",
       "2        0        0       0      0        0        0                0   \n",
       "3        0        0       0      0        0        0                0   \n",
       "4        0        0       0      0        0        0                0   \n",
       "\n",
       "   TV Movie  Thriller  War  Western  \n",
       "0         0         0    0        0  \n",
       "1         0         0    0        0  \n",
       "2         0         0    0        0  \n",
       "3         0         1    0        0  \n",
       "4         0         0    0        0  "
      ]
     },
     "execution_count": 33,
     "metadata": {},
     "output_type": "execute_result"
    }
   ],
   "source": [
    "\n",
    "genres_dummies.sum().sort_values(ascending=False).plot(kind='bar', figsize=(12, 6))\n",
    "plt.xlabel('Genres')\n",
    "plt.ylabel('Number of Movies')\n",
    "plt.title('Number of Movies per Genre')\n",
    "plt.show()\n",
    "genres_dummies.head()"
   ]
  },
  {
   "cell_type": "markdown",
   "metadata": {},
   "source": [
    "## Sentiment Analysis"
   ]
  },
  {
   "cell_type": "markdown",
   "metadata": {},
   "source": [
    "Overview and title Analysis"
   ]
  }
 ],
 "metadata": {
  "kernelspec": {
   "display_name": "comptools",
   "language": "python",
   "name": "python3"
  },
  "language_info": {
   "codemirror_mode": {
    "name": "ipython",
    "version": 3
   },
   "file_extension": ".py",
   "mimetype": "text/x-python",
   "name": "python",
   "nbconvert_exporter": "python",
   "pygments_lexer": "ipython3",
   "version": "3.11.10"
  }
 },
 "nbformat": 4,
 "nbformat_minor": 2
}
