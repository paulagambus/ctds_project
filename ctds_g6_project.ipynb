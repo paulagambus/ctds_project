{
 "cells": [
  {
   "cell_type": "markdown",
   "metadata": {},
   "source": [
    "## Computation Tools for Data Science - Group 6\n",
    "\n",
    "**Group members:**\n",
    "- Raquel Chaves Martinez - s243297\n",
    "- Paula Gambus i Moreno - s233219\n",
    "- Angel Paisan Garcia - s232793\n",
    "- Alba Pi Mas - s243280"
   ]
  },
  {
   "cell_type": "markdown",
   "metadata": {},
   "source": [
    "### Library importation"
   ]
  },
  {
   "cell_type": "code",
   "execution_count": 6,
   "metadata": {},
   "outputs": [],
   "source": [
    "import pandas as pd\n",
    "import numpy as np\n",
    "import matplotlib.pyplot as plt\n",
    "import seaborn as sns\n",
    "\n",
    "import functions as f\n",
    "\n",
    "import string\n",
    "from nltk.corpus import wordnet\n",
    "from nltk.tokenize import word_tokenize\n",
    "from nltk.stem import WordNetLemmatizer\n",
    "from nltk.corpus import stopwords\n"
   ]
  },
  {
   "cell_type": "markdown",
   "metadata": {},
   "source": [
    "## Building and exploring the dataset"
   ]
  },
  {
   "cell_type": "markdown",
   "metadata": {},
   "source": [
    "**NOTE:** The result of the merge of the datasets and calculation of the sentiment can be found in *main_complete.csv*. We recommend not rerunning the code used to generating the file because the computations involved are highly resource-intensive, resulting in long execution times."
   ]
  },
  {
   "cell_type": "markdown",
   "metadata": {},
   "source": [
    "First, we open all the datasets that we are going to get information from."
   ]
  },
  {
   "cell_type": "code",
   "execution_count": 2,
   "metadata": {},
   "outputs": [],
   "source": [
    "netflix = pd.read_csv('data/netflix.csv')\n",
    "amazon = pd.read_csv('data/amazon.csv')\n",
    "hulu = pd.read_csv('data/hulu.csv')\n",
    "apple = pd.read_csv('data/apple.csv')\n",
    "hbo = pd.read_csv('data/hbo.csv')\n",
    "\n",
    "main = pd.read_csv('data/TMDB_all_movies.csv')"
   ]
  },
  {
   "cell_type": "markdown",
   "metadata": {},
   "source": [
    "Since we only want to do movie recommendation, we remove all the entries that are not classified as movies in the platform datasets."
   ]
  },
  {
   "cell_type": "code",
   "execution_count": 3,
   "metadata": {},
   "outputs": [
    {
     "name": "stdout",
     "output_type": "stream",
     "text": [
      "Before removing shows\n",
      "(20106, 8)\n",
      "(66905, 8)\n",
      "(9753, 8)\n",
      "(17648, 8)\n",
      "(7017, 8)\n",
      "After removing shows\n",
      "(15499, 8)\n",
      "(58559, 8)\n",
      "(5915, 8)\n",
      "(13598, 8)\n",
      "(3653, 8)\n"
     ]
    }
   ],
   "source": [
    "print('Before removing shows')\n",
    "print(netflix.shape)\n",
    "print(amazon.shape)\n",
    "print(hulu.shape)\n",
    "print(apple.shape)\n",
    "print(hbo.shape)\n",
    "\n",
    "netflix = f.remove_tv_show(netflix)\n",
    "apple = f.remove_tv_show(apple)\n",
    "hulu = f.remove_tv_show(hulu)\n",
    "amazon = f.remove_tv_show(amazon)\n",
    "hbo = f.remove_tv_show(hbo)\n",
    "\n",
    "#dimension of the dataset\n",
    "print('After removing shows')\n",
    "print(netflix.shape)\n",
    "print(amazon.shape)\n",
    "print(hulu.shape)\n",
    "print(apple.shape)\n",
    "print(hbo.shape)"
   ]
  },
  {
   "cell_type": "markdown",
   "metadata": {},
   "source": [
    "Once we have the auxiliar datasets clean, we can merge it with the main dataset. To do it, we have built a function that can be found in *function.py* . This function takes the platform dataset and the main dataset and adds a new binary column where the 0 indicates that the movie is not in the platform and the 1 represents that the movie is in the platform."
   ]
  },
  {
   "cell_type": "code",
   "execution_count": 4,
   "metadata": {},
   "outputs": [],
   "source": [
    "main_netflix = f.platform_column(main, netflix, 'Netflix')\n",
    "main_net_ama = f.platform_column(main_netflix, amazon, 'Amazon')\n",
    "main_net_ama_hulu = f.platform_column(main_net_ama, hulu, 'Hulu')\n",
    "main_net_ama_hulu_apple = f.platform_column(main_net_ama_hulu, apple, 'Apple')\n",
    "main_complete = f.platform_column(main_net_ama_hulu_apple, hbo, 'HBO')\n"
   ]
  },
  {
   "cell_type": "markdown",
   "metadata": {},
   "source": [
    "To see the amount of movies that we have in each platform:"
   ]
  },
  {
   "cell_type": "code",
   "execution_count": 5,
   "metadata": {},
   "outputs": [
    {
     "name": "stdout",
     "output_type": "stream",
     "text": [
      "Movies in Netflix: 36998.0\n",
      "Movies in Amazon prime: 108669.0\n",
      "Movies in Hulu: 15330.0\n",
      "Movies in Apple TV: 32572.0\n",
      "Movies in HBO Max: 10606.0\n"
     ]
    }
   ],
   "source": [
    "netflix_count = f.count_movies(main_complete, 'Netflix')\n",
    "print('Movies in Netflix:', netflix_count)\n",
    "amazon_count = f.count_movies(main_complete, 'Amazon')\n",
    "print('Movies in Amazon prime:', amazon_count)\n",
    "hulu_count = f.count_movies(main_complete, 'Hulu')\n",
    "print('Movies in Hulu:', hulu_count)\n",
    "apple_count = f.count_movies(main_complete, 'Apple')\n",
    "print('Movies in Apple TV:', apple_count)\n",
    "hbo_count = f.count_movies(main_complete, 'HBO')\n",
    "print('Movies in HBO Max:', hbo_count)"
   ]
  },
  {
   "cell_type": "markdown",
   "metadata": {},
   "source": [
    "Once we have all the information in the same dataframe, we can start applying methods. First, we will calculate the sentiment of the overview of the movies."
   ]
  },
  {
   "cell_type": "markdown",
   "metadata": {},
   "source": [
    "## Calculation of the sentiment"
   ]
  },
  {
   "cell_type": "markdown",
   "metadata": {},
   "source": [
    "First, we will do some exploration of the overview."
   ]
  },
  {
   "cell_type": "code",
   "execution_count": 7,
   "metadata": {},
   "outputs": [
    {
     "data": {
      "text/plain": [
       "0          After the coal mine he works at closes and his...\n",
       "1          Nikander, a rubbish collector and would-be ent...\n",
       "2          It's Ted the Bellhop's first night on the job....\n",
       "3          Four young friends, while taking a shortcut en...\n",
       "4          Timo Novotny labels his new project an experim...\n",
       "                                 ...                        \n",
       "1009834    “Hommage à Beksinski” is a short film commissi...\n",
       "1009835                                                  NaN\n",
       "1009836                                                  NaN\n",
       "1009837                                                  NaN\n",
       "1009838                                                  NaN\n",
       "Name: overview, Length: 1009839, dtype: object"
      ]
     },
     "execution_count": 7,
     "metadata": {},
     "output_type": "execute_result"
    }
   ],
   "source": [
    "main_complete['overview']"
   ]
  },
  {
   "cell_type": "markdown",
   "metadata": {},
   "source": [
    "As it can be seen, there are some missing values in the overview (description of the movie). When we calculate the sentiment, the movies that don't have an overview will be assigned Nan and not 0, because a sentiment of 0 denotes sadness (the lower the score, the sadder is the description/movie)."
   ]
  },
  {
   "cell_type": "markdown",
   "metadata": {},
   "source": [
    "We have built a sentiment function that takes a list of tokens and calculates the sentiment based on the LabMT wordlist. This function is called by a fucntion named *preprocess_and_analyze_sentiment*, which takes the text and returns the sentiment score."
   ]
  },
  {
   "cell_type": "code",
   "execution_count": 8,
   "metadata": {},
   "outputs": [],
   "source": [
    "lemmatizer = WordNetLemmatizer()\n",
    "stop_words = set(stopwords.words('english'))\n",
    "punctuation_table = str.maketrans('', '', string.punctuation)"
   ]
  },
  {
   "cell_type": "code",
   "execution_count": 9,
   "metadata": {},
   "outputs": [],
   "source": [
    "main_complete['sentiment'] = main_complete['overview'].apply(f.preprocess_and_analyze_sentiment)"
   ]
  },
  {
   "cell_type": "code",
   "execution_count": null,
   "metadata": {},
   "outputs": [],
   "source": [
    "#save the main_complete dataset\n",
    "#main_complete.to_csv('data/main_complete.csv', index=False)"
   ]
  },
  {
   "cell_type": "markdown",
   "metadata": {},
   "source": [
    "## Exploration of the dataset to calculate similarity"
   ]
  },
  {
   "cell_type": "markdown",
   "metadata": {},
   "source": [
    "After merging the movies dataset with the platforms dataset and adding the sentiment score columnd we saved the resulting dataset ('main_complete') to avoid generating it every time. Here, we load the dataset and continue working."
   ]
  },
  {
   "cell_type": "code",
   "execution_count": 11,
   "metadata": {},
   "outputs": [
    {
     "data": {
      "text/html": [
       "<div>\n",
       "<style scoped>\n",
       "    .dataframe tbody tr th:only-of-type {\n",
       "        vertical-align: middle;\n",
       "    }\n",
       "\n",
       "    .dataframe tbody tr th {\n",
       "        vertical-align: top;\n",
       "    }\n",
       "\n",
       "    .dataframe thead th {\n",
       "        text-align: right;\n",
       "    }\n",
       "</style>\n",
       "<table border=\"1\" class=\"dataframe\">\n",
       "  <thead>\n",
       "    <tr style=\"text-align: right;\">\n",
       "      <th></th>\n",
       "      <th>id</th>\n",
       "      <th>title</th>\n",
       "      <th>vote_average</th>\n",
       "      <th>vote_count</th>\n",
       "      <th>status</th>\n",
       "      <th>release_date</th>\n",
       "      <th>revenue</th>\n",
       "      <th>runtime</th>\n",
       "      <th>budget</th>\n",
       "      <th>imdb_id</th>\n",
       "      <th>...</th>\n",
       "      <th>music_composer</th>\n",
       "      <th>imdb_rating</th>\n",
       "      <th>imdb_votes</th>\n",
       "      <th>poster_path</th>\n",
       "      <th>Netflix</th>\n",
       "      <th>Amazon</th>\n",
       "      <th>Hulu</th>\n",
       "      <th>Apple</th>\n",
       "      <th>HBO</th>\n",
       "      <th>sentiment</th>\n",
       "    </tr>\n",
       "  </thead>\n",
       "  <tbody>\n",
       "    <tr>\n",
       "      <th>0</th>\n",
       "      <td>2</td>\n",
       "      <td>Ariel</td>\n",
       "      <td>7.1</td>\n",
       "      <td>330.0</td>\n",
       "      <td>Released</td>\n",
       "      <td>1988-10-21</td>\n",
       "      <td>0.0</td>\n",
       "      <td>73.0</td>\n",
       "      <td>0.0</td>\n",
       "      <td>tt0094675</td>\n",
       "      <td>...</td>\n",
       "      <td>NaN</td>\n",
       "      <td>7.4</td>\n",
       "      <td>8735.0</td>\n",
       "      <td>/ojDg0PGvs6R9xYFodRct2kdI6wC.jpg</td>\n",
       "      <td>0.0</td>\n",
       "      <td>1.0</td>\n",
       "      <td>1.0</td>\n",
       "      <td>0.0</td>\n",
       "      <td>0.0</td>\n",
       "      <td>68.24</td>\n",
       "    </tr>\n",
       "    <tr>\n",
       "      <th>1</th>\n",
       "      <td>3</td>\n",
       "      <td>Shadows in Paradise</td>\n",
       "      <td>7.3</td>\n",
       "      <td>369.0</td>\n",
       "      <td>Released</td>\n",
       "      <td>1986-10-17</td>\n",
       "      <td>0.0</td>\n",
       "      <td>74.0</td>\n",
       "      <td>0.0</td>\n",
       "      <td>tt0092149</td>\n",
       "      <td>...</td>\n",
       "      <td>NaN</td>\n",
       "      <td>7.5</td>\n",
       "      <td>7484.0</td>\n",
       "      <td>/nj01hspawPof0mJmlgfjuLyJuRN.jpg</td>\n",
       "      <td>0.0</td>\n",
       "      <td>1.0</td>\n",
       "      <td>1.0</td>\n",
       "      <td>0.0</td>\n",
       "      <td>0.0</td>\n",
       "      <td>73.44</td>\n",
       "    </tr>\n",
       "    <tr>\n",
       "      <th>2</th>\n",
       "      <td>5</td>\n",
       "      <td>Four Rooms</td>\n",
       "      <td>5.8</td>\n",
       "      <td>2623.0</td>\n",
       "      <td>Released</td>\n",
       "      <td>1995-12-09</td>\n",
       "      <td>4257354.0</td>\n",
       "      <td>98.0</td>\n",
       "      <td>4000000.0</td>\n",
       "      <td>tt0113101</td>\n",
       "      <td>...</td>\n",
       "      <td>Combustible Edison</td>\n",
       "      <td>6.7</td>\n",
       "      <td>112484.0</td>\n",
       "      <td>/75aHn1NOYXh4M7L5shoeQ6NGykP.jpg</td>\n",
       "      <td>0.0</td>\n",
       "      <td>1.0</td>\n",
       "      <td>0.0</td>\n",
       "      <td>1.0</td>\n",
       "      <td>0.0</td>\n",
       "      <td>86.06</td>\n",
       "    </tr>\n",
       "    <tr>\n",
       "      <th>3</th>\n",
       "      <td>6</td>\n",
       "      <td>Judgment Night</td>\n",
       "      <td>6.5</td>\n",
       "      <td>331.0</td>\n",
       "      <td>Released</td>\n",
       "      <td>1993-10-15</td>\n",
       "      <td>12136938.0</td>\n",
       "      <td>109.0</td>\n",
       "      <td>21000000.0</td>\n",
       "      <td>tt0107286</td>\n",
       "      <td>...</td>\n",
       "      <td>Alan Silvestri</td>\n",
       "      <td>6.6</td>\n",
       "      <td>19268.0</td>\n",
       "      <td>/3rvvpS9YPM5HB2f4HYiNiJVtdam.jpg</td>\n",
       "      <td>0.0</td>\n",
       "      <td>1.0</td>\n",
       "      <td>0.0</td>\n",
       "      <td>0.0</td>\n",
       "      <td>0.0</td>\n",
       "      <td>79.34</td>\n",
       "    </tr>\n",
       "    <tr>\n",
       "      <th>4</th>\n",
       "      <td>8</td>\n",
       "      <td>Life in Loops (A Megacities RMX)</td>\n",
       "      <td>7.5</td>\n",
       "      <td>27.0</td>\n",
       "      <td>Released</td>\n",
       "      <td>2006-01-01</td>\n",
       "      <td>0.0</td>\n",
       "      <td>80.0</td>\n",
       "      <td>42000.0</td>\n",
       "      <td>tt0825671</td>\n",
       "      <td>...</td>\n",
       "      <td>NaN</td>\n",
       "      <td>8.2</td>\n",
       "      <td>284.0</td>\n",
       "      <td>/7ln81BRnPR2wqxuITZxEciCe1lc.jpg</td>\n",
       "      <td>0.0</td>\n",
       "      <td>0.0</td>\n",
       "      <td>0.0</td>\n",
       "      <td>0.0</td>\n",
       "      <td>0.0</td>\n",
       "      <td>382.44</td>\n",
       "    </tr>\n",
       "  </tbody>\n",
       "</table>\n",
       "<p>5 rows × 34 columns</p>\n",
       "</div>"
      ],
      "text/plain": [
       "   id                             title  vote_average  vote_count    status  \\\n",
       "0   2                             Ariel           7.1       330.0  Released   \n",
       "1   3               Shadows in Paradise           7.3       369.0  Released   \n",
       "2   5                        Four Rooms           5.8      2623.0  Released   \n",
       "3   6                    Judgment Night           6.5       331.0  Released   \n",
       "4   8  Life in Loops (A Megacities RMX)           7.5        27.0  Released   \n",
       "\n",
       "  release_date     revenue  runtime      budget    imdb_id  ...  \\\n",
       "0   1988-10-21         0.0     73.0         0.0  tt0094675  ...   \n",
       "1   1986-10-17         0.0     74.0         0.0  tt0092149  ...   \n",
       "2   1995-12-09   4257354.0     98.0   4000000.0  tt0113101  ...   \n",
       "3   1993-10-15  12136938.0    109.0  21000000.0  tt0107286  ...   \n",
       "4   2006-01-01         0.0     80.0     42000.0  tt0825671  ...   \n",
       "\n",
       "       music_composer imdb_rating imdb_votes  \\\n",
       "0                 NaN         7.4     8735.0   \n",
       "1                 NaN         7.5     7484.0   \n",
       "2  Combustible Edison         6.7   112484.0   \n",
       "3      Alan Silvestri         6.6    19268.0   \n",
       "4                 NaN         8.2      284.0   \n",
       "\n",
       "                        poster_path Netflix Amazon Hulu Apple  HBO sentiment  \n",
       "0  /ojDg0PGvs6R9xYFodRct2kdI6wC.jpg     0.0    1.0  1.0   0.0  0.0     68.24  \n",
       "1  /nj01hspawPof0mJmlgfjuLyJuRN.jpg     0.0    1.0  1.0   0.0  0.0     73.44  \n",
       "2  /75aHn1NOYXh4M7L5shoeQ6NGykP.jpg     0.0    1.0  0.0   1.0  0.0     86.06  \n",
       "3  /3rvvpS9YPM5HB2f4HYiNiJVtdam.jpg     0.0    1.0  0.0   0.0  0.0     79.34  \n",
       "4  /7ln81BRnPR2wqxuITZxEciCe1lc.jpg     0.0    0.0  0.0   0.0  0.0    382.44  \n",
       "\n",
       "[5 rows x 34 columns]"
      ]
     },
     "execution_count": 11,
     "metadata": {},
     "output_type": "execute_result"
    }
   ],
   "source": [
    "main_complete = pd.read_csv('data/main_complete.csv')\n",
    "main_complete.head()"
   ]
  },
  {
   "cell_type": "markdown",
   "metadata": {},
   "source": [
    "To calculate the similarity, we need to do minhashing, that is why, a tokenization is first needed. We wanted to take several features for calculating the jaccard similarity:\n",
    "- genre\n",
    "- cast\n",
    "- crew\n",
    "- sentiment\n",
    "- platforms (one-hot encoded)\n",
    "- crew\n",
    "- production companies\n",
    "- production countries\n",
    "- imbd votes\n",
    "- imbd rating\n",
    "\n",
    "To tokenize the features, we created sets for each of them with all the strings of each category inside"
   ]
  },
  {
   "cell_type": "markdown",
   "metadata": {},
   "source": [
    "### Genres"
   ]
  },
  {
   "cell_type": "code",
   "execution_count": 12,
   "metadata": {},
   "outputs": [
    {
     "name": "stdout",
     "output_type": "stream",
     "text": [
      "This percentage of movies have no genre: 29.076318106153554 %\n"
     ]
    }
   ],
   "source": [
    "# check how many movies have no genre\n",
    "nulls = main_complete['genres'].isnull().sum()\n",
    "print(\"This percentage of movies have no genre:\", nulls/len(main_complete)*100, \"%\")"
   ]
  },
  {
   "cell_type": "code",
   "execution_count": 13,
   "metadata": {},
   "outputs": [],
   "source": [
    "# split the genres into a set of genres and remove spaces\n",
    "main_complete['genres'] = main_complete['genres'].apply(lambda x: set(genre.strip() for genre in x.split(',')) if pd.notnull(x) else set())"
   ]
  },
  {
   "cell_type": "markdown",
   "metadata": {},
   "source": [
    "We will also do a small analysis of the genres to learn more about the data"
   ]
  },
  {
   "cell_type": "code",
   "execution_count": 14,
   "metadata": {},
   "outputs": [
    {
     "name": "stdout",
     "output_type": "stream",
     "text": [
      "There are  19 different genres in the dataset\n",
      "The genres are: {'Family', 'Horror', 'Music', 'Animation', 'Documentary', 'Mystery', 'Drama', 'Action', 'Western', 'Crime', 'Romance', 'Science Fiction', 'War', 'Adventure', 'Thriller', 'History', 'Comedy', 'TV Movie', 'Fantasy'}\n"
     ]
    },
    {
     "data": {
      "image/png": "[encoded data removed]",
      "text/plain": [
       "<Figure size 2000x1000 with 1 Axes>"
      ]
     },
     "metadata": {},
     "output_type": "display_data"
    }
   ],
   "source": [
    "# check how many different genres are taking into account the content of the lists\n",
    "genres = set()\n",
    "for list in main_complete['genres']:\n",
    "    # if list is not NaN\n",
    "    if list is not np.nan:\n",
    "        for genre in list:\n",
    "            # remove the space at the beginning of the string if there is one\n",
    "            genre = genre.strip()\n",
    "            genres.add(genre)\n",
    "print(\"There are \", len(genres), \"different genres in the dataset\")\n",
    "print(\"The genres are:\", genres)\n",
    "\n",
    "genres_count = {genre: 0 for genre in genres}\n",
    "for genre_list in main_complete['genres']:\n",
    "    if genre_list is not np.nan:\n",
    "        for genre in genre_list:\n",
    "            genre = genre.strip()\n",
    "            genres_count[genre] += 1\n",
    "\n",
    "# histogram\n",
    "plt.figure(figsize=(20, 10))\n",
    "plt.bar(genres_count.keys(), genres_count.values())\n",
    "plt.xticks(rotation=90)\n",
    "plt.xlabel('Genres')\n",
    "plt.ylabel('Number of movies')\n",
    "plt.title('Number of movies per genre')\n",
    "plt.show()"
   ]
  },
  {
   "cell_type": "markdown",
   "metadata": {},
   "source": [
    "### Cast and crew"
   ]
  },
  {
   "cell_type": "markdown",
   "metadata": {},
   "source": [
    "We will know follow the same procedure with the cast and the crew. Moreover, for the crew we will join the columns of director and producers."
   ]
  },
  {
   "cell_type": "markdown",
   "metadata": {},
   "source": [
    "#### Cast"
   ]
  },
  {
   "cell_type": "code",
   "execution_count": 15,
   "metadata": {},
   "outputs": [],
   "source": [
    "# split the cast into a set of cast and remove spaces\n",
    "main_complete['cast'] = main_complete['cast'].apply(lambda x: set(actor.strip() for actor in x.split(',')) if pd.notnull(x) else set())"
   ]
  },
  {
   "cell_type": "code",
   "execution_count": 16,
   "metadata": {},
   "outputs": [
    {
     "name": "stdout",
     "output_type": "stream",
     "text": [
      "This percentage of movies have no cast: 33.29124741666741 %\n",
      "336188\n"
     ]
    }
   ],
   "source": [
    "# how many movies have no cast\n",
    "nulls = main_complete['cast'].apply(lambda x: len(x) == 0).sum()\n",
    "print(\"This percentage of movies have no cast:\", nulls/len(main_complete)*100, \"%\")\n",
    "\n",
    "print(nulls)"
   ]
  },
  {
   "cell_type": "markdown",
   "metadata": {},
   "source": [
    "**NOTE:** After doing several tests with the code using different features, we decided to discard the 'cast'. We took this decision based on its length, since it is usally long it has a big weight when calculating the similarities."
   ]
  },
  {
   "cell_type": "code",
   "execution_count": null,
   "metadata": {},
   "outputs": [],
   "source": [
    "# remove the cast column\n",
    "main_complete = main_complete.drop(columns=['cast'])"
   ]
  },
  {
   "cell_type": "markdown",
   "metadata": {},
   "source": [
    "#### Crew"
   ]
  },
  {
   "cell_type": "code",
   "execution_count": 17,
   "metadata": {},
   "outputs": [],
   "source": [
    "# Join the director and producers columns into a single column crew\n",
    "columns_to_merge = ['director', 'producers']\n",
    "\n",
    "for column in columns_to_merge:\n",
    "    main_complete[column] = main_complete[column].apply(lambda x: set(person.strip() for person in x.split(',')) if pd.notnull(x) else set())\n",
    "\n",
    "main_complete['crew'] = main_complete.apply(lambda row: set.union(row['director'], row['producers']), axis=1)\n",
    "\n",
    "# Drop the individual columns\n",
    "main_complete.drop(columns=columns_to_merge, inplace=True)"
   ]
  },
  {
   "cell_type": "code",
   "execution_count": 18,
   "metadata": {},
   "outputs": [
    {
     "name": "stdout",
     "output_type": "stream",
     "text": [
      "This percentage of movies have no crew: 17.2818637426362 %\n"
     ]
    }
   ],
   "source": [
    "# how many movies have no crew\n",
    "nulls = main_complete['crew'].apply(lambda x: len(x) == 0).sum()\n",
    "print(\"This percentage of movies have no crew:\", nulls/len(main_complete)*100, \"%\")"
   ]
  },
  {
   "cell_type": "markdown",
   "metadata": {},
   "source": [
    "### Production companies and countries"
   ]
  },
  {
   "cell_type": "markdown",
   "metadata": {},
   "source": [
    "The same procedure was also followed with these two features"
   ]
  },
  {
   "cell_type": "code",
   "execution_count": 19,
   "metadata": {},
   "outputs": [],
   "source": [
    "# split the production_companies into a set and remove spaces\n",
    "main_complete['production_companies'] = main_complete['production_companies'].apply(lambda x: set(company.strip() for company in x.split(',')) if pd.notnull(x) else set())\n",
    "main_complete['production_companies'] = main_complete['production_companies'].apply(lambda x: x - {''})\n"
   ]
  },
  {
   "cell_type": "code",
   "execution_count": 20,
   "metadata": {},
   "outputs": [
    {
     "name": "stdout",
     "output_type": "stream",
     "text": [
      "This percentage of movies have no production companies: 53.91235632610743 %\n"
     ]
    }
   ],
   "source": [
    "# percentage of movies with no production companies\n",
    "nulls = main_complete['production_companies'].apply(lambda x: len(x) == 0).sum()\n",
    "print(\"This percentage of movies have no production companies:\", nulls/len(main_complete)*100, \"%\")"
   ]
  },
  {
   "cell_type": "code",
   "execution_count": 21,
   "metadata": {},
   "outputs": [],
   "source": [
    "main_complete['production_countries'] = main_complete['production_countries'].apply(lambda x: set(country.strip() for country in x.split(',')) if pd.notnull(x) else set())\n",
    "main_complete['production_countries'] = main_complete['production_countries'].apply(lambda x: x - {''})"
   ]
  },
  {
   "cell_type": "code",
   "execution_count": 22,
   "metadata": {},
   "outputs": [
    {
     "name": "stdout",
     "output_type": "stream",
     "text": [
      "This percentage of movies have no production countries: 39.518774774988884 %\n"
     ]
    }
   ],
   "source": [
    "# percentage of movies with no production countries\n",
    "nulls = main_complete['production_countries'].apply(lambda x: len(x) == 0).sum()\n",
    "print(\"This percentage of movies have no production countries:\", nulls/len(main_complete)*100, \"%\")"
   ]
  },
  {
   "cell_type": "markdown",
   "metadata": {},
   "source": [
    "### Sentiment"
   ]
  },
  {
   "cell_type": "markdown",
   "metadata": {},
   "source": [
    "To take into account the sentiment of the movie description, we decided to create three categories depending on the values."
   ]
  },
  {
   "cell_type": "markdown",
   "metadata": {},
   "source": [
    "To find the thresholds we calculated the mean and the standard deviation of the sentiment and we classified those further away from the mean than the standard deviation on the low end as low, those within the standard deviation as medium and those further away from the mean than the standard deviation on the high end as high. "
   ]
  },
  {
   "cell_type": "code",
   "execution_count": 23,
   "metadata": {},
   "outputs": [
    {
     "name": "stdout",
     "output_type": "stream",
     "text": [
      "Range of sentiment values: 0.0 to 621.52 with mean 109.39746533773106 and standard deviation 83.97651422418457 and median 85.76\n"
     ]
    }
   ],
   "source": [
    "sentiment_min = main_complete['sentiment'].min()\n",
    "sentiment_max = main_complete['sentiment'].max()\n",
    "sentiment_mean = main_complete['sentiment'].mean()\n",
    "sentiment_std = main_complete['sentiment'].std()\n",
    "sentiment_mid = main_complete['sentiment'].median()\n",
    "\n",
    "print(f\"Range of sentiment values: {sentiment_min} to {sentiment_max} with mean {sentiment_mean} and standard deviation {sentiment_std} and median {sentiment_mid}\")"
   ]
  },
  {
   "cell_type": "code",
   "execution_count": 24,
   "metadata": {},
   "outputs": [
    {
     "data": {
      "image/png": "[encoded data removed]",
      "text/plain": [
       "<Figure size 640x480 with 1 Axes>"
      ]
     },
     "metadata": {},
     "output_type": "display_data"
    }
   ],
   "source": [
    "plt.hist(main_complete['sentiment'], bins=20)\n",
    "plt.axvline(main_complete['sentiment'].mean(), color='r', linestyle='dashed', linewidth=1, label='Mean Sentiment')\n",
    "plt.legend()\n",
    "plt.show()"
   ]
  },
  {
   "cell_type": "code",
   "execution_count": 32,
   "metadata": {},
   "outputs": [
    {
     "data": {
      "image/png": "[encoded data removed]",
      "text/plain": [
       "<Figure size 640x480 with 1 Axes>"
      ]
     },
     "metadata": {},
     "output_type": "display_data"
    }
   ],
   "source": [
    "sns.set_theme(style=\"whitegrid\")\n",
    "\n",
    "sns.histplot(data=main_complete, x='sentiment', bins=20, color='#5875E1', kde=False)\n",
    "plt.axvline(main_complete['sentiment'].mean(), color='r', linestyle='dashed', linewidth=1, label='Mean Sentiment')\n",
    "plt.legend()\n",
    "plt.show()"
   ]
  },
  {
   "cell_type": "code",
   "execution_count": 33,
   "metadata": {},
   "outputs": [
    {
     "data": {
      "text/html": [
       "<div>\n",
       "<style scoped>\n",
       "    .dataframe tbody tr th:only-of-type {\n",
       "        vertical-align: middle;\n",
       "    }\n",
       "\n",
       "    .dataframe tbody tr th {\n",
       "        vertical-align: top;\n",
       "    }\n",
       "\n",
       "    .dataframe thead th {\n",
       "        text-align: right;\n",
       "    }\n",
       "</style>\n",
       "<table border=\"1\" class=\"dataframe\">\n",
       "  <thead>\n",
       "    <tr style=\"text-align: right;\">\n",
       "      <th></th>\n",
       "      <th>title</th>\n",
       "      <th>sentiment</th>\n",
       "      <th>sentiment_category</th>\n",
       "    </tr>\n",
       "  </thead>\n",
       "  <tbody>\n",
       "    <tr>\n",
       "      <th>0</th>\n",
       "      <td>Ariel</td>\n",
       "      <td>68.24</td>\n",
       "      <td>medium</td>\n",
       "    </tr>\n",
       "    <tr>\n",
       "      <th>1</th>\n",
       "      <td>Shadows in Paradise</td>\n",
       "      <td>73.44</td>\n",
       "      <td>medium</td>\n",
       "    </tr>\n",
       "    <tr>\n",
       "      <th>2</th>\n",
       "      <td>Four Rooms</td>\n",
       "      <td>86.06</td>\n",
       "      <td>medium</td>\n",
       "    </tr>\n",
       "    <tr>\n",
       "      <th>3</th>\n",
       "      <td>Judgment Night</td>\n",
       "      <td>79.34</td>\n",
       "      <td>medium</td>\n",
       "    </tr>\n",
       "    <tr>\n",
       "      <th>4</th>\n",
       "      <td>Life in Loops (A Megacities RMX)</td>\n",
       "      <td>382.44</td>\n",
       "      <td>high</td>\n",
       "    </tr>\n",
       "  </tbody>\n",
       "</table>\n",
       "</div>"
      ],
      "text/plain": [
       "                              title  sentiment sentiment_category\n",
       "0                             Ariel      68.24             medium\n",
       "1               Shadows in Paradise      73.44             medium\n",
       "2                        Four Rooms      86.06             medium\n",
       "3                    Judgment Night      79.34             medium\n",
       "4  Life in Loops (A Megacities RMX)     382.44               high"
      ]
     },
     "execution_count": 33,
     "metadata": {},
     "output_type": "execute_result"
    }
   ],
   "source": [
    "# Define the thresholds for sentiment ranges\n",
    "low_threshold = sentiment_mean - sentiment_std\n",
    "high_threshold = sentiment_mean + sentiment_std\n",
    "\n",
    "# Function to categorize sentiment\n",
    "def categorize_sentiment(value):\n",
    "    if value < low_threshold:\n",
    "        return 'low'\n",
    "    elif value > high_threshold:\n",
    "        return 'high'\n",
    "    else:\n",
    "        return 'medium'\n",
    "\n",
    "# Assuming main_complete is already defined and categorize_sentiment is a function\n",
    "main_complete.loc[:, 'sentiment_category'] = main_complete['sentiment'].apply(categorize_sentiment)\n",
    "\n",
    "# Display the updated dataframe\n",
    "main_complete[['title', 'sentiment', 'sentiment_category']].head()"
   ]
  },
  {
   "cell_type": "markdown",
   "metadata": {},
   "source": [
    "### Dataset cleaning"
   ]
  },
  {
   "cell_type": "markdown",
   "metadata": {},
   "source": [
    "Before doing the minhashing, we will remove the movies that were not 'Released' or have more than four of the features that we are interested in empty."
   ]
  },
  {
   "cell_type": "code",
   "execution_count": 34,
   "metadata": {},
   "outputs": [
    {
     "name": "stdout",
     "output_type": "stream",
     "text": [
      "Number of movies removed:  94569 from a total of  1009839\n",
      "Percentage of movies removed:  9.364760125128857 %\n"
     ]
    }
   ],
   "source": [
    "# clean movies with 4 or more interesting columns empty\n",
    "columns = ['genres', 'crew', 'production_companies', 'production_countries', 'sentiment_category']\n",
    "\n",
    "initial_count = len(main_complete)\n",
    "\n",
    "# check each row if they have 3 or more columns from columns with empty sets\n",
    "main_complete = main_complete[~(main_complete[columns].apply(lambda x: sum(1 for i in x if len(i) == 0) >= 4, axis=1))]\n",
    "final_count = len(main_complete)\n",
    "\n",
    "print(\"Number of movies removed: \", initial_count - final_count, \"from a total of \", initial_count)\n",
    "print(\"Percentage of movies removed: \", (initial_count - final_count) / initial_count * 100, \"%\")"
   ]
  },
  {
   "cell_type": "code",
   "execution_count": 35,
   "metadata": {},
   "outputs": [
    {
     "name": "stdout",
     "output_type": "stream",
     "text": [
      "Number of movies removed:  15995 from a total of  915270\n",
      "Percentage of movies removed:  1.7475717547827416 %\n"
     ]
    }
   ],
   "source": [
    "# remove movies if the 'status' is not 'Released'\n",
    "initial_count = len(main_complete)\n",
    "main_complete = main_complete[main_complete['status'] == 'Released']\n",
    "final_count = len(main_complete)\n",
    "\n",
    "print(\"Number of movies removed: \", initial_count - final_count, \"from a total of \", initial_count)\n",
    "print(\"Percentage of movies removed: \", (initial_count - final_count) / initial_count * 100, \"%\")"
   ]
  },
  {
   "cell_type": "code",
   "execution_count": null,
   "metadata": {},
   "outputs": [],
   "source": []
  }
 ],
 "metadata": {
  "kernelspec": {
   "display_name": "comput_tools",
   "language": "python",
   "name": "python3"
  },
  "language_info": {
   "codemirror_mode": {
    "name": "ipython",
    "version": 3
   },
   "file_extension": ".py",
   "mimetype": "text/x-python",
   "name": "python",
   "nbconvert_exporter": "python",
   "pygments_lexer": "ipython3",
   "version": "3.13.0"
  }
 },
 "nbformat": 4,
 "nbformat_minor": 2
}
