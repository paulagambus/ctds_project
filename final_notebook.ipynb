{
 "cells": [
  {
   "cell_type": "markdown",
   "metadata": {},
   "source": [
    "# Similarity calculation"
   ]
  },
  {
   "cell_type": "code",
   "execution_count": 1,
   "metadata": {},
   "outputs": [],
   "source": [
    "import pandas as pd\n",
    "import numpy as np\n",
    "import matplotlib.pyplot as plt\n",
    "import seaborn as sns\n",
    "import pandas as pd\n",
    "import ast\n",
    "from datasketch import MinHash, MinHashLSH"
   ]
  },
  {
   "cell_type": "markdown",
   "metadata": {},
   "source": [
    "## Dataset Preprocessing (Paula's part)"
   ]
  },
  {
   "cell_type": "markdown",
   "metadata": {},
   "source": [
    "Load the dataset that Raquel processed (joining a few different datasets and adding the sentiment analysis)"
   ]
  },
  {
   "cell_type": "code",
   "execution_count": null,
   "metadata": {},
   "outputs": [],
   "source": [
    "main_complete = pd.read_csv('data/main_complete.csv')\n",
    "main_complete_og = main_complete.copy()\n",
    "main_complete.head()"
   ]
  },
  {
   "cell_type": "markdown",
   "metadata": {},
   "source": [
    "To calculate the similarity, we need to do minhashing, that is why, a tokenization is first needed. We wanted to take several features for calculating the jaccard similarity:\n",
    "- genre\n",
    "- cast\n",
    "- crew\n",
    "- sentiment\n",
    "- platforms (one-hot encoded)\n",
    "- crew\n",
    "- production companies\n",
    "- production countries\n",
    "- imbd votes\n",
    "- imbd rating\n",
    "\n",
    "To tokenize the features, we created sets for each of them with all the strings of each category inside"
   ]
  },
  {
   "cell_type": "markdown",
   "metadata": {},
   "source": [
    "### Genres"
   ]
  },
  {
   "cell_type": "code",
   "execution_count": null,
   "metadata": {},
   "outputs": [],
   "source": [
    "# check how many movies have no genre\n",
    "nulls = main_complete['genres'].isnull().sum()\n",
    "print(\"This percentage of movies have no genre:\", nulls/len(main_complete)*100, \"%\")"
   ]
  },
  {
   "cell_type": "code",
   "execution_count": null,
   "metadata": {},
   "outputs": [],
   "source": [
    "# split the genres into a set of genres and remove spaces\n",
    "main_complete['genres'] = main_complete['genres'].apply(lambda x: set(genre.strip() for genre in x.split(',')) if pd.notnull(x) else set())"
   ]
  },
  {
   "cell_type": "markdown",
   "metadata": {},
   "source": [
    "We also did a small analysis of the genres to know with what we were working with"
   ]
  },
  {
   "cell_type": "code",
   "execution_count": null,
   "metadata": {},
   "outputs": [],
   "source": [
    "# check how many different genres are taking into account the content of the lists\n",
    "genres = set()\n",
    "for list in main_complete['genres']:\n",
    "    # if list is not NaN\n",
    "    if list is not np.nan:\n",
    "        for genre in list:\n",
    "            # remove the space at the beginning of the string if there is one\n",
    "            genre = genre.strip()\n",
    "            genres.add(genre)\n",
    "print(\"There are \", len(genres), \"different genres in the dataset\")\n",
    "print(\"The genres are:\", genres)\n",
    "\n",
    "genres_count = {genre: 0 for genre in genres}\n",
    "for genre_list in main_complete['genres']:\n",
    "    if genre_list is not np.nan:\n",
    "        for genre in genre_list:\n",
    "            genre = genre.strip()\n",
    "            genres_count[genre] += 1\n",
    "\n",
    "# histogram\n",
    "plt.figure(figsize=(20, 10))\n",
    "plt.bar(genres_count.keys(), genres_count.values())\n",
    "plt.xticks(rotation=90)\n",
    "plt.xlabel('Genres')\n",
    "plt.ylabel('Number of movies')\n",
    "plt.title('Number of movies per genre')\n",
    "plt.show()"
   ]
  },
  {
   "cell_type": "markdown",
   "metadata": {},
   "source": [
    "### Cast and crew"
   ]
  },
  {
   "cell_type": "markdown",
   "metadata": {},
   "source": [
    "We reproduced the same procedure that we did for the genres. In this case, for the crew, we joined the columns of director and producers."
   ]
  },
  {
   "cell_type": "code",
   "execution_count": null,
   "metadata": {},
   "outputs": [],
   "source": [
    "# split the cast into a set of cast and remove spaces\n",
    "main_complete['cast'] = main_complete['cast'].apply(lambda x: set(actor.strip() for actor in x.split(',')) if pd.notnull(x) else set())"
   ]
  },
  {
   "cell_type": "code",
   "execution_count": null,
   "metadata": {},
   "outputs": [],
   "source": [
    "# how many movies have no cast\n",
    "nulls = main_complete['cast'].apply(lambda x: len(x) == 0).sum()\n",
    "print(\"This percentage of movies have no cast:\", nulls/len(main_complete)*100, \"%\")\n",
    "\n",
    "print(nulls)"
   ]
  },
  {
   "cell_type": "code",
   "execution_count": null,
   "metadata": {},
   "outputs": [],
   "source": [
    "# Join the director and producers columns into a single column crew\n",
    "columns_to_merge = ['director', 'producers']\n",
    "\n",
    "for column in columns_to_merge:\n",
    "    main_complete[column] = main_complete[column].apply(lambda x: set(person.strip() for person in x.split(',')) if pd.notnull(x) else set())\n",
    "\n",
    "main_complete['crew'] = main_complete.apply(lambda row: set.union(row['director'], row['producers']), axis=1)\n",
    "\n",
    "# Drop the individual columns\n",
    "main_complete.drop(columns=columns_to_merge, inplace=True)"
   ]
  },
  {
   "cell_type": "code",
   "execution_count": null,
   "metadata": {},
   "outputs": [],
   "source": [
    "# how many movies have no crew\n",
    "nulls = main_complete['crew'].apply(lambda x: len(x) == 0).sum()\n",
    "print(\"This percentage of movies have no crew:\", nulls/len(main_complete)*100, \"%\")"
   ]
  },
  {
   "cell_type": "markdown",
   "metadata": {},
   "source": [
    "### Production companies and countries"
   ]
  },
  {
   "cell_type": "markdown",
   "metadata": {},
   "source": [
    "The same procedure was followed with these two features"
   ]
  },
  {
   "cell_type": "code",
   "execution_count": null,
   "metadata": {},
   "outputs": [],
   "source": [
    "# split the production_companies into a set and remove spaces\n",
    "main_complete['production_companies'] = main_complete['production_companies'].apply(lambda x: set(company.strip() for company in x.split(',')) if pd.notnull(x) else set())\n",
    "main_complete['production_companies'] = main_complete['production_companies'].apply(lambda x: x - {''})"
   ]
  },
  {
   "cell_type": "code",
   "execution_count": null,
   "metadata": {},
   "outputs": [],
   "source": [
    "# percentage of movies with no production companies\n",
    "nulls = main_complete['production_companies'].apply(lambda x: len(x) == 0).sum()\n",
    "print(\"This percentage of movies have no production companies:\", nulls/len(main_complete)*100)"
   ]
  },
  {
   "cell_type": "code",
   "execution_count": null,
   "metadata": {},
   "outputs": [],
   "source": [
    "main_complete['production_countries'] = main_complete['production_countries'].apply(lambda x: set(country.strip() for country in x.split(',')) if pd.notnull(x) else set())\n",
    "main_complete['production_countries'] = main_complete['production_countries'].apply(lambda x: x - {''})"
   ]
  },
  {
   "cell_type": "code",
   "execution_count": null,
   "metadata": {},
   "outputs": [],
   "source": [
    "# percentage of movies with no production countries\n",
    "nulls = main_complete['production_countries'].apply(lambda x: len(x) == 0).sum()\n",
    "print(\"This percentage of movies have no production countries:\", nulls/len(main_complete)*100)"
   ]
  },
  {
   "cell_type": "markdown",
   "metadata": {},
   "source": [
    "### Sentiment analysis"
   ]
  },
  {
   "cell_type": "markdown",
   "metadata": {},
   "source": [
    "After calculating the sentiment for each movie, to take it into account for the minhashing, we decided to create three categories depending on the values. This was done due to the fact that dor this method, integers don't work as good as strings (TO REVIEW)."
   ]
  },
  {
   "cell_type": "markdown",
   "metadata": {},
   "source": [
    "To find the thresholds we ..."
   ]
  },
  {
   "cell_type": "code",
   "execution_count": null,
   "metadata": {},
   "outputs": [],
   "source": [
    "sentiment_min = main_complete['sentiment'].min()\n",
    "sentiment_max = main_complete['sentiment'].max()\n",
    "sentiment_mean = main_complete['sentiment'].mean()\n",
    "sentiment_std = main_complete['sentiment'].std()\n",
    "sentiment_mid = main_complete['sentiment'].median()\n",
    "\n",
    "print(f\"Range of sentiment values: {sentiment_min} to {sentiment_max} with mean {sentiment_mean} and standard deviation {sentiment_std} and median {sentiment_mid}\")"
   ]
  },
  {
   "cell_type": "code",
   "execution_count": null,
   "metadata": {},
   "outputs": [],
   "source": [
    "plt.hist(df['sentiment'], bins=20)\n",
    "plt.axvline(df['sentiment'].mean(), color='r', linestyle='dashed', linewidth=1, label='Mean Sentiment')\n",
    "plt.legend()\n",
    "plt.show()"
   ]
  },
  {
   "cell_type": "code",
   "execution_count": null,
   "metadata": {},
   "outputs": [],
   "source": [
    "# Define the thresholds for sentiment ranges\n",
    "low_threshold = sentiment_mean - sentiment_std\n",
    "high_threshold = sentiment_mean + sentiment_std\n",
    "\n",
    "# Function to categorize sentiment\n",
    "def categorize_sentiment(value):\n",
    "    if value < low_threshold:\n",
    "        return 'low'\n",
    "    elif value > high_threshold:\n",
    "        return 'high'\n",
    "    else:\n",
    "        return 'medium'\n",
    "\n",
    "# Assuming main_complete is already defined and categorize_sentiment is a function\n",
    "main_complete.loc[:, 'sentiment_category'] = main_complete['sentiment'].apply(categorize_sentiment)\n",
    "\n",
    "# Display the updated dataframe\n",
    "main_complete[['title', 'sentiment', 'sentiment_category']].head()"
   ]
  },
  {
   "cell_type": "markdown",
   "metadata": {},
   "source": [
    "### Dataset cleaning"
   ]
  },
  {
   "cell_type": "markdown",
   "metadata": {},
   "source": [
    "Finally, before doing the minhashing, some movies were deleted from the dataset because they had more than 4 interested features empty and because they were not \"Released\"."
   ]
  },
  {
   "cell_type": "code",
   "execution_count": null,
   "metadata": {},
   "outputs": [],
   "source": [
    "# clean movies with 3 or more interesting columns empty\n",
    "columns = ['genres', 'cast', 'crew', 'production_companies', 'production_countries', 'sentiment_category']\n",
    "\n",
    "initial_count = len(main_complete)\n",
    "\n",
    "# check each row if they have 3 or more columns from columns with empty sets\n",
    "main_complete = main_complete[~(main_complete[columns].apply(lambda x: sum(1 for i in x if len(i) == 0) >= 4, axis=1))]\n",
    "final_count = len(main_complete)\n",
    "\n",
    "print(\"Number of movies removed: \", initial_count - final_count, \"from a total of \", initial_count)\n",
    "print(\"Percentage of movies removed: \", (initial_count - final_count) / initial_count * 100)"
   ]
  },
  {
   "cell_type": "code",
   "execution_count": null,
   "metadata": {},
   "outputs": [],
   "source": [
    "# remove movies if the 'status' is not 'Released'\n",
    "initial_count = len(main_complete)\n",
    "main_complete = main_complete[main_complete['status'] == 'Released']\n",
    "final_count = len(main_complete)\n",
    "\n",
    "print(\"Number of movies removed: \", initial_count - final_count, \"from a total of \", initial_count)\n",
    "print(\"Percentage of movies removed: \", (initial_count - final_count) / initial_count * 100)"
   ]
  },
  {
   "cell_type": "markdown",
   "metadata": {},
   "source": [
    "## Minhashing"
   ]
  },
  {
   "cell_type": "markdown",
   "metadata": {},
   "source": [
    "Load the small dataset that is the result after cleaning and processing it."
   ]
  },
  {
   "cell_type": "code",
   "execution_count": 2,
   "metadata": {},
   "outputs": [],
   "source": [
    "# load the small dataset\n",
    "data = pd.read_csv('data/small_main_complete.csv')"
   ]
  },
  {
   "cell_type": "code",
   "execution_count": 3,
   "metadata": {},
   "outputs": [
    {
     "data": {
      "text/html": [
       "<div>\n",
       "<style scoped>\n",
       "    .dataframe tbody tr th:only-of-type {\n",
       "        vertical-align: middle;\n",
       "    }\n",
       "\n",
       "    .dataframe tbody tr th {\n",
       "        vertical-align: top;\n",
       "    }\n",
       "\n",
       "    .dataframe thead th {\n",
       "        text-align: right;\n",
       "    }\n",
       "</style>\n",
       "<table border=\"1\" class=\"dataframe\">\n",
       "  <thead>\n",
       "    <tr style=\"text-align: right;\">\n",
       "      <th></th>\n",
       "      <th>id</th>\n",
       "      <th>title</th>\n",
       "      <th>genres</th>\n",
       "      <th>sentiment_category</th>\n",
       "      <th>Netflix</th>\n",
       "      <th>Amazon</th>\n",
       "      <th>Hulu</th>\n",
       "      <th>Apple</th>\n",
       "      <th>HBO</th>\n",
       "      <th>crew</th>\n",
       "      <th>production_companies</th>\n",
       "      <th>production_countries</th>\n",
       "      <th>imdb_votes</th>\n",
       "      <th>imdb_rating</th>\n",
       "    </tr>\n",
       "  </thead>\n",
       "  <tbody>\n",
       "    <tr>\n",
       "      <th>0</th>\n",
       "      <td>2</td>\n",
       "      <td>Ariel</td>\n",
       "      <td>{'Romance', 'Crime', 'Comedy', 'Drama'}</td>\n",
       "      <td>medium</td>\n",
       "      <td>0.0</td>\n",
       "      <td>1.0</td>\n",
       "      <td>1.0</td>\n",
       "      <td>0.0</td>\n",
       "      <td>0.0</td>\n",
       "      <td>{'Aki Kaurismäki'}</td>\n",
       "      <td>{'Villealfa Filmproductions'}</td>\n",
       "      <td>{'Finland'}</td>\n",
       "      <td>8735.0</td>\n",
       "      <td>7.4</td>\n",
       "    </tr>\n",
       "    <tr>\n",
       "      <th>1</th>\n",
       "      <td>3</td>\n",
       "      <td>Shadows in Paradise</td>\n",
       "      <td>{'Romance', 'Comedy', 'Drama'}</td>\n",
       "      <td>medium</td>\n",
       "      <td>0.0</td>\n",
       "      <td>1.0</td>\n",
       "      <td>1.0</td>\n",
       "      <td>0.0</td>\n",
       "      <td>0.0</td>\n",
       "      <td>{'Mika Kaurismäki', 'Aki Kaurismäki'}</td>\n",
       "      <td>{'Villealfa Filmproductions'}</td>\n",
       "      <td>{'Finland'}</td>\n",
       "      <td>7484.0</td>\n",
       "      <td>7.5</td>\n",
       "    </tr>\n",
       "    <tr>\n",
       "      <th>2</th>\n",
       "      <td>5</td>\n",
       "      <td>Four Rooms</td>\n",
       "      <td>{'Comedy'}</td>\n",
       "      <td>medium</td>\n",
       "      <td>0.0</td>\n",
       "      <td>1.0</td>\n",
       "      <td>0.0</td>\n",
       "      <td>1.0</td>\n",
       "      <td>0.0</td>\n",
       "      <td>{'Robert Rodriguez', 'Alexandre Rockwell', 'Al...</td>\n",
       "      <td>{'Miramax', 'A Band Apart'}</td>\n",
       "      <td>{'United States of America'}</td>\n",
       "      <td>112484.0</td>\n",
       "      <td>6.7</td>\n",
       "    </tr>\n",
       "    <tr>\n",
       "      <th>3</th>\n",
       "      <td>6</td>\n",
       "      <td>Judgment Night</td>\n",
       "      <td>{'Crime', 'Action', 'Thriller'}</td>\n",
       "      <td>medium</td>\n",
       "      <td>0.0</td>\n",
       "      <td>1.0</td>\n",
       "      <td>0.0</td>\n",
       "      <td>0.0</td>\n",
       "      <td>0.0</td>\n",
       "      <td>{'Marilyn Vance', 'Gene Levy', 'Stephen Hopkin...</td>\n",
       "      <td>{'JVC', 'Largo Entertainment', 'Universal Pict...</td>\n",
       "      <td>{'United States of America'}</td>\n",
       "      <td>19268.0</td>\n",
       "      <td>6.6</td>\n",
       "    </tr>\n",
       "    <tr>\n",
       "      <th>4</th>\n",
       "      <td>8</td>\n",
       "      <td>Life in Loops (A Megacities RMX)</td>\n",
       "      <td>{'Documentary'}</td>\n",
       "      <td>high</td>\n",
       "      <td>0.0</td>\n",
       "      <td>0.0</td>\n",
       "      <td>0.0</td>\n",
       "      <td>0.0</td>\n",
       "      <td>0.0</td>\n",
       "      <td>{'Ulrich Gehmacher', 'Timo Novotny'}</td>\n",
       "      <td>{'inLoops'}</td>\n",
       "      <td>{'Austria'}</td>\n",
       "      <td>284.0</td>\n",
       "      <td>8.2</td>\n",
       "    </tr>\n",
       "  </tbody>\n",
       "</table>\n",
       "</div>"
      ],
      "text/plain": [
       "   id                             title  \\\n",
       "0   2                             Ariel   \n",
       "1   3               Shadows in Paradise   \n",
       "2   5                        Four Rooms   \n",
       "3   6                    Judgment Night   \n",
       "4   8  Life in Loops (A Megacities RMX)   \n",
       "\n",
       "                                    genres sentiment_category  Netflix  \\\n",
       "0  {'Romance', 'Crime', 'Comedy', 'Drama'}             medium      0.0   \n",
       "1           {'Romance', 'Comedy', 'Drama'}             medium      0.0   \n",
       "2                               {'Comedy'}             medium      0.0   \n",
       "3          {'Crime', 'Action', 'Thriller'}             medium      0.0   \n",
       "4                          {'Documentary'}               high      0.0   \n",
       "\n",
       "   Amazon  Hulu  Apple  HBO  \\\n",
       "0     1.0   1.0    0.0  0.0   \n",
       "1     1.0   1.0    0.0  0.0   \n",
       "2     1.0   0.0    1.0  0.0   \n",
       "3     1.0   0.0    0.0  0.0   \n",
       "4     0.0   0.0    0.0  0.0   \n",
       "\n",
       "                                                crew  \\\n",
       "0                                 {'Aki Kaurismäki'}   \n",
       "1              {'Mika Kaurismäki', 'Aki Kaurismäki'}   \n",
       "2  {'Robert Rodriguez', 'Alexandre Rockwell', 'Al...   \n",
       "3  {'Marilyn Vance', 'Gene Levy', 'Stephen Hopkin...   \n",
       "4               {'Ulrich Gehmacher', 'Timo Novotny'}   \n",
       "\n",
       "                                production_companies  \\\n",
       "0                      {'Villealfa Filmproductions'}   \n",
       "1                      {'Villealfa Filmproductions'}   \n",
       "2                        {'Miramax', 'A Band Apart'}   \n",
       "3  {'JVC', 'Largo Entertainment', 'Universal Pict...   \n",
       "4                                        {'inLoops'}   \n",
       "\n",
       "           production_countries  imdb_votes  imdb_rating  \n",
       "0                   {'Finland'}      8735.0          7.4  \n",
       "1                   {'Finland'}      7484.0          7.5  \n",
       "2  {'United States of America'}    112484.0          6.7  \n",
       "3  {'United States of America'}     19268.0          6.6  \n",
       "4                   {'Austria'}       284.0          8.2  "
      ]
     },
     "execution_count": 3,
     "metadata": {},
     "output_type": "execute_result"
    }
   ],
   "source": [
    "data.head()"
   ]
  }
 ],
 "metadata": {
  "kernelspec": {
   "display_name": "ctda",
   "language": "python",
   "name": "python3"
  },
  "language_info": {
   "codemirror_mode": {
    "name": "ipython",
    "version": 3
   },
   "file_extension": ".py",
   "mimetype": "text/x-python",
   "name": "python",
   "nbconvert_exporter": "python",
   "pygments_lexer": "ipython3",
   "version": "3.9.6"
  }
 },
 "nbformat": 4,
 "nbformat_minor": 2
}
